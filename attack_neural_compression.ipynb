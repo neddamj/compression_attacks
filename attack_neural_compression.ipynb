{
  "cells": [
    {
      "cell_type": "code",
      "execution_count": 1,
      "metadata": {
        "id": "WwgCUFnY5DNi"
      },
      "outputs": [],
      "source": [
        "import warnings\n",
        "warnings.filterwarnings(\"ignore\")\n",
        "\n",
        "import math\n",
        "import io\n",
        "import torch\n",
        "import torch.nn.functional as F\n",
        "from torchvision import datasets, transforms\n",
        "from torch.utils.data import DataLoader\n",
        "from torch.optim.lr_scheduler import _LRScheduler\n",
        "  \n",
        "import numpy as np\n",
        "from tqdm import tqdm\n",
        "import matplotlib.pyplot as plt\n",
        "from pytorch_msssim import ssim\n",
        "\n",
        "from typing import List\n",
        "from masks import ring_mask, box_mask, dot_mask\n",
        "from load_compression_models import (\n",
        "    my_bmshj2018_factorized, \n",
        "    my_bmshj2018_factorized_relu,\n",
        "    my_bmshj2018_hyperprior,\n",
        "    my_cheng2020_anchor,\n",
        "    my_cheng2020_attn,\n",
        "    my_mbt2018,\n",
        "    my_mbt2018_mean\n",
        ")\n",
        "from compressai.losses import RateDistortionLoss"
      ]
    },
    {
      "cell_type": "markdown",
      "metadata": {},
      "source": [
        "### Load the Compression Networks"
      ]
    },
    {
      "cell_type": "code",
      "execution_count": 2,
      "metadata": {},
      "outputs": [],
      "source": [
        "device = 'cpu'\n",
        "if torch.cuda.is_available():\n",
        "    device = 'cuda' \n",
        "elif torch.backends.mps.is_available():\n",
        "    'mps'"
      ]
    },
    {
      "cell_type": "code",
      "execution_count": 3,
      "metadata": {},
      "outputs": [
        {
          "name": "stdout",
          "output_type": "stream",
          "text": [
            "Parameters: 2998147\n"
          ]
        }
      ],
      "source": [
        "models = {\n",
        "    'my_bmshj2018_factorized_relu': my_bmshj2018_factorized_relu(quality=2, pretrained=True).train().to(torch.float32).to(device),\n",
        "    'my_bmshj2018_factorized'     : my_bmshj2018_factorized(quality=2, pretrained=True).train().to(torch.float32).to(device),\n",
        "    'my_bmshj2018_hyperprior'     : my_bmshj2018_hyperprior(quality=2, pretrained=True).train().to(torch.float32).to(device),\n",
        "    'my_cheng2020_anchor'         : my_cheng2020_anchor(quality=2, pretrained=True).train().to(torch.float32).to(device),\n",
        "    'my_cheng2020_attn'           : my_cheng2020_attn(quality=2, pretrained=True).train().to(torch.float32).to(device),\n",
        "    'my_mbt2018'                  : my_mbt2018(quality=2, pretrained=True).train().to(torch.float32).to(device),\n",
        "    'my_mbt2018_mean'             : my_mbt2018_mean(quality=2, pretrained=True).to(torch.float32).train().to(device)\n",
        "}\n",
        "net = models['my_bmshj2018_factorized']\n",
        "print(f'Parameters: {sum(p.numel() for p in net.parameters())}')"
      ]
    },
    {
      "cell_type": "markdown",
      "metadata": {
        "id": "WaAtkigqXvSp"
      },
      "source": [
        "### Load the Dataset"
      ]
    },
    {
      "cell_type": "code",
      "execution_count": 4,
      "metadata": {
        "colab": {
          "base_uri": "https://localhost:8080/"
        },
        "id": "TdZjl4c55OCQ",
        "outputId": "ce5b24b1-9a24-4e94-b4fd-0e5217354db2"
      },
      "outputs": [
        {
          "name": "stdout",
          "output_type": "stream",
          "text": [
            "Files already downloaded and verified\n"
          ]
        }
      ],
      "source": [
        "# Define the transformations\n",
        "img_WH = 256\n",
        "transform = transforms.Compose([\n",
        "    transforms.Resize((img_WH, img_WH)),\n",
        "    transforms.ToTensor(),\n",
        "])\n",
        "\n",
        "# Load the CelebA dataset\n",
        "dataset = datasets.CelebA(root='./data', split='train', transform=transform, download=True)\n",
        "\n",
        "# Create a DataLoader\n",
        "dataloader = DataLoader(dataset, batch_size=32, shuffle=True, num_workers=4)"
      ]
    },
    {
      "cell_type": "markdown",
      "metadata": {
        "id": "ySBsLu7zKW04"
      },
      "source": [
        "### Run Attack"
      ]
    },
    {
      "cell_type": "code",
      "execution_count": 5,
      "metadata": {},
      "outputs": [],
      "source": [
        "class StatsMeter:\n",
        "    # Utility function to track statistics of a variable\n",
        "    # over time\n",
        "    def __init__(self) -> None:\n",
        "        self.data = []\n",
        "        self.avg = 0\n",
        "        self.sum = 0\n",
        "        self.count = 0\n",
        "        self.max = 0\n",
        "        self.min = float('inf')\n",
        "\n",
        "    def update(self, val : float, n : int = 1) -> None:\n",
        "        self.count += n\n",
        "        self.data.append(val)\n",
        "        self.sum = sum(self.data)\n",
        "        self.avg = self.sum / len(self.data)\n",
        "        self.max = max(self.data)\n",
        "        self.min = min(self.data)"
      ]
    },
    {
      "cell_type": "code",
      "execution_count": 6,
      "metadata": {
        "colab": {
          "base_uri": "https://localhost:8080/",
          "height": 345
        },
        "id": "iS6L81cBIRKD",
        "outputId": "040401b0-f4a7-43b8-96cc-57d60b862d19"
      },
      "outputs": [],
      "source": [
        "x = dataset[0][0].unsqueeze(0).to(device)\n",
        "\n",
        "num_sources = 8\n",
        "x_hat = [] #dataset[1][0].unsqueeze(0).to(device)\n",
        "for i, (images, label) in enumerate(dataloader):\n",
        "    # num sources must be less than batch size\n",
        "    x_hat = images[:num_sources].to(device)\n",
        "    break\n",
        "\n",
        "x_src = x_hat.clone()\n",
        "x_hat.requires_grad = True"
      ]
    },
    {
      "cell_type": "code",
      "execution_count": 7,
      "metadata": {},
      "outputs": [],
      "source": [
        "class CustomLRScheduler(_LRScheduler):\n",
        "    def __init__(self, \n",
        "                 optimizer: torch.Tensor, \n",
        "                 update_every: int = 1000, \n",
        "                 update_factor: int = 10, \n",
        "                 last_epoch: int = -1):\n",
        "        self.update_every = update_every\n",
        "        self.update_factor = update_factor\n",
        "        super().__init__(optimizer, last_epoch)\n",
        "\n",
        "    def get_lr(self):\n",
        "        # Change the learning rate every 'reduce_every' epochs\n",
        "        if (self.last_epoch + 1) % self.update_every == 0:\n",
        "            return [group['lr'] / 1000 for group in self.optimizer.param_groups]\n",
        "        else:\n",
        "            return [group['lr'] for group in self.optimizer.param_groups]"
      ]
    },
    {
      "cell_type": "code",
      "execution_count": 8,
      "metadata": {},
      "outputs": [],
      "source": [
        "def loss_fn(src: torch.Tensor, target: torch.Tensor, iter: int, num_steps: int) -> torch.Tensor:\n",
        "    mse = F.mse_loss(src, target) \n",
        "    cos_sim = F.cosine_similarity(src.view(1, -1), target.view(num_sources, -1), dim=1).mean()\n",
        "    inf_norm = torch.dist(src, target, p=float('inf'))\n",
        "    if iter < num_steps // 2:\n",
        "        loss = mse + ((1 - cos_sim) / 2)\n",
        "    else:\n",
        "        loss = inf_norm\n",
        "    return loss"
      ]
    },
    {
      "cell_type": "code",
      "execution_count": 9,
      "metadata": {},
      "outputs": [],
      "source": [
        "def pgd(\n",
        "        src_img: torch.Tensor, \n",
        "        target_img: torch.Tensor, \n",
        "        model: torch.nn.Module, \n",
        "        optimizer: torch.optim.Optimizer, \n",
        "        scheduler: torch.optim.lr_scheduler._LRScheduler, \n",
        "        num_steps: int, \n",
        "        mask: torch.Tensor = None\n",
        "    ) -> List:\n",
        "    # Move images to the same device as the model\n",
        "    src_img = src_img.to(device)\n",
        "    target_img = target_img.to(device)\n",
        "    mask = mask.to(device)\n",
        "    # Get the embedding of the source image and make a copy of the target\n",
        "    src_emb = model.forward(src_img)['y_hat']\n",
        "\n",
        "    # Track the best performance\n",
        "    best_img = None\n",
        "    loss_tracker = StatsMeter()\n",
        "\n",
        "    pbar = tqdm(range(num_steps))\n",
        "    for iter in pbar:  \n",
        "        out = model.forward(target_img)\n",
        "        target_emb = out['y_hat']\n",
        "        loss = loss_fn(src_emb, target_emb, iter, num_steps)\n",
        "        pbar.set_description(f\"[Running attack]: Loss {loss.item()}\")\n",
        "\n",
        "        optimizer.zero_grad()\n",
        "        target_img.grad,  = torch.autograd.grad(loss, [target_img])\n",
        "        # loss.backward(retain_graph=True)\n",
        "        if mask is not None:\n",
        "            target_img.grad *= mask\n",
        "        optimizer.step()\n",
        "        scheduler.step()\n",
        "        loss_tracker.update(loss.item())\n",
        "\n",
        "        # Save the image that achieved the best performance\n",
        "        if loss.item() == loss_tracker.min:\n",
        "            best_img = target_img\n",
        "\n",
        "    return best_img, loss_tracker"
      ]
    },
    {
      "cell_type": "code",
      "execution_count": 10,
      "metadata": {},
      "outputs": [
        {
          "name": "stderr",
          "output_type": "stream",
          "text": [
            "[Running attack]: Loss 0.008871078491210938:  94%|█████████▎| 9374/10000 [02:25<00:09, 65.17it/s]  "
          ]
        }
      ],
      "source": [
        "# Set hyperparams for mask generation and PGD itself\n",
        "num_steps = 10000\n",
        "mask_type = 'dot'\n",
        "if mask_type == 'box':\n",
        "    lr = 3e-3\n",
        "    mask = box_mask()\n",
        "elif mask_type == 'ring':\n",
        "    lr = 3e-3\n",
        "    num_rings = 50\n",
        "    ring_width = 1\n",
        "    ring_separation = 5\n",
        "    mask = ring_mask(x_hat, num_rings=num_rings, ring_width=ring_width, ring_separation=ring_separation)\n",
        "elif mask_type == 'dot':\n",
        "    lr = 6e-2\n",
        "    vertical_skip = 3\n",
        "    horizontal_skip = 2\n",
        "    mask = dot_mask(x_hat, vertical_skip=vertical_skip, horizontal_skip=horizontal_skip)\n",
        "\n",
        "# Run the attack and produce an adversarial image y_hat\n",
        "optimizer = torch.optim.AdamW([x_hat], lr=lr)\n",
        "scheduler = CustomLRScheduler(optimizer, update_every=num_steps // 2, update_factor=.15)\n",
        "x_adv, loss_tracker = pgd(x, x_hat, model=net, optimizer=optimizer, scheduler=scheduler, num_steps=num_steps, mask=mask)\n",
        "# Pass the adv image through the compression network and see the result\n",
        "output = net.forward(x_adv)['x_hat']"
      ]
    },
    {
      "cell_type": "code",
      "execution_count": null,
      "metadata": {},
      "outputs": [],
      "source": [
        "# Show how the loss changed during optimization\n",
        "plt.plot(torch.linspace(0, num_steps//2, num_steps//2), loss_tracker.data[:num_steps//2], label='mse + cosine loss')\n",
        "plt.plot(torch.linspace(num_steps//2, num_steps, num_steps//2), loss_tracker.data[num_steps//2:], label = '$l_{\\infty}$ loss')\n",
        "plt.xlabel('Step')\n",
        "plt.ylabel('Loss Value')\n",
        "plt.title('Loss Tracker')\n",
        "plt.legend()\n",
        "plt.grid()\n",
        "plt.show()"
      ]
    },
    {
      "cell_type": "code",
      "execution_count": null,
      "metadata": {},
      "outputs": [],
      "source": [
        "# Create a figure to hold the subplots\n",
        "fig, axs = plt.subplots(num_sources, 4, figsize=(15, 8))  # num_sources rows, 4 columns\n",
        "labels = ['Target Image', 'Source Image', 'Adv Image', 'Decompressed Adv Image']\n",
        "\n",
        "for idx in range(num_sources):\n",
        "    images = [x, x_src[idx], x_adv[idx], output[idx]]\n",
        "    \n",
        "    # Iterate over the images and axes to plot each image\n",
        "    for img_idx, ax in enumerate(axs[idx] if num_sources > 1 else axs):  # Use idx for outer loop, img_idx for inner\n",
        "        img = images[img_idx].clip(0, 1).squeeze(0).permute(1, 2, 0).detach().cpu().numpy()  # Change the shape to [H, W, C]\n",
        "        ax.imshow(img)\n",
        "        if idx == 0:\n",
        "            ax.set_title(labels[img_idx])\n",
        "        ax.axis('off')  # Hide axis\n",
        "\n",
        "plt.show()"
      ]
    },
    {
      "cell_type": "markdown",
      "metadata": {},
      "source": [
        "### Performance Metrics\n",
        "\n",
        "Similarity between the adversarial output of the network and the target image"
      ]
    },
    {
      "cell_type": "code",
      "execution_count": 13,
      "metadata": {},
      "outputs": [],
      "source": [
        "def calculate_psnr(img1, img2, max_val=1.0):\n",
        "    # img1 and img2 should be of shape (batch_size, channels, height, width) and normalized to [0, 1] range\n",
        "    mse = F.mse_loss(img1, img2)\n",
        "    psnr = 10 * torch.log10(max_val / torch.sqrt(mse))\n",
        "    return psnr"
      ]
    },
    {
      "cell_type": "code",
      "execution_count": null,
      "metadata": {},
      "outputs": [],
      "source": [
        "normalized_l2_dist, struct_sim, psnr = [], [], []\n",
        "for i in range(num_sources):\n",
        "    normalized_l2_dist.append(torch.norm(x - output[i]) / (3 * img_WH * img_WH))\n",
        "    struct_sim.append(ssim(x, output[i].unsqueeze(0)))\n",
        "    psnr.append(calculate_psnr(x, output[i]))\n",
        "\n",
        "print(f'Normalized L2 Dist: {torch.tensor(normalized_l2_dist).mean()}\\nSSIM: {torch.tensor(struct_sim).mean()}\\nPSNR: {torch.tensor(psnr).mean()}')\n"
      ]
    },
    {
      "cell_type": "markdown",
      "metadata": {},
      "source": [
        "Similarity between the source image and the adversarial image"
      ]
    },
    {
      "cell_type": "code",
      "execution_count": null,
      "metadata": {},
      "outputs": [],
      "source": [
        "normalized_l2_dist, struct_sim, psnr = [], [], []\n",
        "for i in range(num_sources):\n",
        "    normalized_l2_dist = torch.norm(x_src[i] - x_adv[i]) / (3 * img_WH * img_WH)\n",
        "    struct_sim = ssim(x_src[i].unsqueeze(0), x_adv[i].unsqueeze(0))\n",
        "    psnr = calculate_psnr(x_src[i], x_adv[i])\n",
        "\n",
        "print(f'Normalized L2 Dist: {torch.tensor(normalized_l2_dist).mean()}\\nSSIM: {torch.tensor(struct_sim).mean()}\\nPSNR: {torch.tensor(psnr).mean()}')\n"
      ]
    },
    {
      "cell_type": "markdown",
      "metadata": {},
      "source": [
        "### Interpolate between Source and Adv Images"
      ]
    },
    {
      "cell_type": "code",
      "execution_count": 29,
      "metadata": {},
      "outputs": [],
      "source": [
        "# Interpolate between the source and adversarial images\n",
        "intermediate_imgs = []\n",
        "outputs = []\n",
        "sample_number = 4      # which image from the batch do you want to visualize\n",
        "intervals = torch.linspace(0, 1, 75)\n",
        "for val in intervals:\n",
        "    intermediate = val * x_hat[sample_number] + (1 - val) * x_src[sample_number]\n",
        "    intermediate_imgs.append(intermediate)\n",
        "\n",
        "    # Pass the interpolated images through the network\n",
        "    intermediate = intermediate.to(device)  # Move image to the same device as the model\n",
        "    intermediate = intermediate.unsqueeze(0) if len(intermediate.shape) == 3 else intermediate\n",
        "    with torch.no_grad():\n",
        "        output = net(intermediate)\n",
        "    outputs.append(output['x_hat'].squeeze(0).cpu())"
      ]
    },
    {
      "cell_type": "markdown",
      "metadata": {},
      "source": [
        "Check how the length of the compressed images changes as the magnitude of the added perturbaton increases."
      ]
    },
    {
      "cell_type": "code",
      "execution_count": null,
      "metadata": {},
      "outputs": [],
      "source": [
        "# File length of the target image\n",
        "x_out = net.compress(x)\n",
        "x_len = len(x_out['strings'][0][0])\n",
        "\n",
        "file_lengths = []\n",
        "for i in range(len(intermediate_imgs)):\n",
        "    out = net.compress(intermediate_imgs[i].unsqueeze(0))\n",
        "    file_len = len(out['strings'][0][0])\n",
        "    file_lengths.append(file_len)\n",
        "\n",
        "plt.plot(intervals, file_lengths, marker='o')\n",
        "plt.grid()\n",
        "plt.xlabel('Perturbation Magnitude ($\\epsilon$)')\n",
        "plt.ylabel('Length of Compressed File (bytes)')\n",
        "plt.axhline(y=x_len, color='r', linestyle='--')\n"
      ]
    },
    {
      "cell_type": "markdown",
      "metadata": {},
      "source": [
        "How close to the compressed target is the compressed adversarial image?"
      ]
    },
    {
      "cell_type": "code",
      "execution_count": null,
      "metadata": {},
      "outputs": [],
      "source": [
        "bytes1 = net.compress(x)['strings'][0][0]\n",
        "bytes2 = net.compress(intermediate_imgs[-2].unsqueeze(0))['strings'][0][0]\n",
        "print(f'Target File Length: {len(bytes1)} bytes\\nAdversarial File Length: {len(bytes2)} bytes\\n')\n",
        "\n",
        "hamming_dist = 0\n",
        "for byte1, byte2 in zip(bytes1, bytes2):\n",
        "    hamming_dist += bin(byte1 ^ byte2).count('1')\n",
        "print(f'Normalized Hamming Distance: {hamming_dist/(len(bytes1) * 8):.5f}')"
      ]
    },
    {
      "cell_type": "markdown",
      "metadata": {},
      "source": [
        "Check if the perturbations are tranferrable between images."
      ]
    },
    {
      "cell_type": "code",
      "execution_count": null,
      "metadata": {},
      "outputs": [],
      "source": [
        "delta = x_adv[0] - x_src[0]\n",
        "new_src = dataset[68][0].to(device) + delta\n",
        "out = net.forward(new_src.unsqueeze(0))['x_hat']\n",
        "plt.imshow(new_src.squeeze(0).clip(0, 1).permute(1, 2, 0).detach().cpu())"
      ]
    },
    {
      "cell_type": "code",
      "execution_count": null,
      "metadata": {},
      "outputs": [],
      "source": [
        "plt.imshow(out.squeeze(0).clip(0, 1).permute(1, 2, 0).detach().cpu())"
      ]
    },
    {
      "cell_type": "code",
      "execution_count": null,
      "metadata": {},
      "outputs": [],
      "source": []
    }
  ],
  "metadata": {
    "accelerator": "GPU",
    "colab": {
      "gpuType": "T4",
      "provenance": []
    },
    "kernelspec": {
      "display_name": "Python 3",
      "name": "python3"
    },
    "language_info": {
      "codemirror_mode": {
        "name": "ipython",
        "version": 3
      },
      "file_extension": ".py",
      "mimetype": "text/x-python",
      "name": "python",
      "nbconvert_exporter": "python",
      "pygments_lexer": "ipython3",
      "version": "3.9.16"
    }
  },
  "nbformat": 4,
  "nbformat_minor": 0
}
